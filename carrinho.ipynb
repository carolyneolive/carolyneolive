{
  "nbformat": 4,
  "nbformat_minor": 0,
  "metadata": {
    "colab": {
      "name": "carrinho.ipynb",
      "provenance": [],
      "collapsed_sections": [],
      "authorship_tag": "ABX9TyOKGWcfu5Fy4Dyo+9S8PWNb",
      "include_colab_link": true
    },
    "kernelspec": {
      "name": "python3",
      "display_name": "Python 3"
    },
    "language_info": {
      "name": "python"
    }
  },
  "cells": [
    {
      "cell_type": "markdown",
      "metadata": {
        "id": "view-in-github",
        "colab_type": "text"
      },
      "source": [
        "<a href=\"https://colab.research.google.com/github/carolyneolive/carolyneolive/blob/main/carrinho.ipynb\" target=\"_parent\"><img src=\"https://colab.research.google.com/assets/colab-badge.svg\" alt=\"Open In Colab\"/></a>"
      ]
    },
    {
      "cell_type": "code",
      "execution_count": 8,
      "metadata": {
        "colab": {
          "base_uri": "https://localhost:8080/"
        },
        "id": "my80ECM5ePPd",
        "outputId": "854610b7-56c3-4d34-d90c-55e506ca9b5c"
      },
      "outputs": [
        {
          "output_type": "stream",
          "name": "stdout",
          "text": [
            "Adicione um produto na lista ou digite 'sair' para sair: \n",
            "uva\n",
            "Adicione um produto na lista ou digite 'sair' para sair: \n",
            "maça\n",
            "Adicione um produto na lista ou digite 'sair' para sair: \n",
            "banana\n",
            "Adicione um produto na lista ou digite 'sair' para sair: \n",
            "sairt\n",
            "Adicione um produto na lista ou digite 'sair' para sair: \n",
            "sair\n",
            "uva\n",
            "maça\n",
            "banana\n",
            "sairt\n"
          ]
        }
      ],
      "source": [
        "carrinho = []\n",
        "produto = '' \n",
        "while produto !='sair':\n",
        "  print(\"Adicione um produto na lista ou digite 'sair' para sair: \") \n",
        "  produto = input() \n",
        "  if produto !='sair':\n",
        "        carrinho.append(produto) \n",
        "for produto in carrinho: \n",
        "    print(produto) \n"
      ]
    }
  ]
}