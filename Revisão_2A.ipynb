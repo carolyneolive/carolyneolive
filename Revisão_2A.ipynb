{
  "nbformat": 4,
  "nbformat_minor": 0,
  "metadata": {
    "colab": {
      "name": "Revisão_2A.ipynb",
      "provenance": [],
      "authorship_tag": "ABX9TyNNmBK4b0BM3b/Z2IMAEEHX",
      "include_colab_link": true
    },
    "kernelspec": {
      "name": "python3",
      "display_name": "Python 3"
    },
    "language_info": {
      "name": "python"
    }
  },
  "cells": [
    {
      "cell_type": "markdown",
      "metadata": {
        "id": "view-in-github",
        "colab_type": "text"
      },
      "source": [
        "<a href=\"https://colab.research.google.com/github/carolyneolive/carolyneolive/blob/main/Revis%C3%A3o_2A.ipynb\" target=\"_parent\"><img src=\"https://colab.research.google.com/assets/colab-badge.svg\" alt=\"Open In Colab\"/></a>"
      ]
    },
    {
      "cell_type": "markdown",
      "source": [
        "# Revisão da disciplina de Estrutura de Dados \n",
        "\n",
        "1. Faça um Programa que peça a temperatura em graus Fahrenheit, transforme e mostre a temperatura em graus Celsius. C = 5 * ((F-32) / 9).\n"
      ],
      "metadata": {
        "id": "wHg__5yTi8Qx"
      }
    },
    {
      "cell_type": "code",
      "execution_count": 4,
      "metadata": {
        "colab": {
          "base_uri": "https://localhost:8080/"
        },
        "id": "fKGxzV_riKQv",
        "outputId": "d6e683d8-d311-474b-97b4-30a728ed1ebb"
      },
      "outputs": [
        {
          "output_type": "stream",
          "name": "stdout",
          "text": [
            "Digite a temperatura em Fahrenheit:58\n",
            "A temperatura em Celsius é :14.44\n"
          ]
        }
      ],
      "source": [
        "Fahrenheit = float(input('Digite a temperatura em Fahrenheit:'))\n",
        "Celsius = 5.0 * ((Fahrenheit-32.0)/9.0)\n",
        "print(f'A temperatura em Celsius é :{Celsius:.2f}')"
      ]
    },
    {
      "cell_type": "markdown",
      "source": [
        "2. Faça um Programa que peça um número correspondente a um determinado ano e em seguida informe se este ano é ou não bissexto.\n",
        "  **Regra:** Qualquer ano que seja uniformemente divisível por 4 é um ano bissexto. No entanto, ainda há um pequeno erro que deve ser contabilizado.\n",
        "  Para eliminar esse erro, o calendário gregoriano estipula que um ano que é uniformemente divisível por 100 é um ano bissexto apenas se também é igualmente divisível por 400.\n"
      ],
      "metadata": {
        "id": "zId5ID5Ek5K3"
      }
    },
    {
      "cell_type": "code",
      "source": [
        "ano = int(input('Ano: '))\n",
        "if (ano%4==0 and ano%100!=0) or (ano%400==0):\n",
        "    print('Bissexto')\n",
        "else:\n",
        "    print('Não é bissexto')"
      ],
      "metadata": {
        "colab": {
          "base_uri": "https://localhost:8080/"
        },
        "id": "zlWhJ0kOjfyE",
        "outputId": "5e695129-9f84-4335-cce0-0b189121cd1b"
      },
      "execution_count": 8,
      "outputs": [
        {
          "output_type": "stream",
          "name": "stdout",
          "text": [
            "Ano: 2013\n",
            "Não é bissexto\n"
          ]
        }
      ]
    },
    {
      "cell_type": "markdown",
      "source": [
        "3. Faça um programa que gera uma lista dos números primos existentes entre 1 e um número inteiro informado pelo usuário.\n",
        "**Regra:** Um número é chamado de primo quando possui exatamente dois divisores, 1 e ele mesmo.\n"
      ],
      "metadata": {
        "id": "GXHu69i_migx"
      }
    },
    {
      "cell_type": "code",
      "source": [
        "numero = int(input(\"Digite um número: \"))\n",
        "lista = []\n",
        "\n",
        "for i in range(numero + 1):\n",
        "    if i % 2 == 1 and i != 2:\n",
        "        lista.append(i)\n",
        "\n",
        "print(\"Números primos: \", lista)"
      ],
      "metadata": {
        "colab": {
          "base_uri": "https://localhost:8080/"
        },
        "id": "BpqP2V2pmNQ6",
        "outputId": "0c18fcc7-7a33-472e-e3b9-b5f29f0f2235"
      },
      "execution_count": 9,
      "outputs": [
        {
          "output_type": "stream",
          "name": "stdout",
          "text": [
            "Digite um número: 82\n",
            "Números primos:  [1, 3, 5, 7, 9, 11, 13, 15, 17, 19, 21, 23, 25, 27, 29, 31, 33, 35, 37, 39, 41, 43, 45, 47, 49, 51, 53, 55, 57, 59, 61, 63, 65, 67, 69, 71, 73, 75, 77, 79, 81]\n"
          ]
        }
      ]
    },
    {
      "cell_type": "markdown",
      "source": [
        "4.Faça um Programa que peça a idade e a altura de 5 pessoas, armazene cada informação no seu respectivo vetor. Imprima a idade e a altura na ordem inversa a ordem lida.\n"
      ],
      "metadata": {
        "id": "iLJ_TfXsolHq"
      }
    },
    {
      "cell_type": "code",
      "source": [
        "idades = []\n",
        "alturas = []\n",
        "for i in range(1, 6):\n",
        "    print(f'Dados da Pessoa {i}')\n",
        "    idade = int(input(' Digite a idade: '))\n",
        "    altura = int(input(' Digite a altura: '))\n",
        "    idades.append(idade)\n",
        "    alturas.append(altura)\n",
        "\n",
        "idades.reverse()\n",
        "print(idades)\n",
        "alturas.reverse()\n",
        "print(alturas) \n",
        "\n"
      ],
      "metadata": {
        "colab": {
          "base_uri": "https://localhost:8080/"
        },
        "id": "TTSHW-lDovWX",
        "outputId": "17d33a4c-c11c-409f-ad3a-580ac34c87e6"
      },
      "execution_count": 25,
      "outputs": [
        {
          "output_type": "stream",
          "name": "stdout",
          "text": [
            "Dados da Pessoa 1\n",
            " Digite a idade: 4\n",
            " Digite a altura: 4\n",
            "Dados da Pessoa 2\n",
            " Digite a idade: 4\n",
            " Digite a altura: 4\n",
            "Dados da Pessoa 3\n",
            " Digite a idade: 4\n",
            " Digite a altura: 4\n",
            "Dados da Pessoa 4\n",
            " Digite a idade: 4\n",
            " Digite a altura: 1\n",
            "Dados da Pessoa 5\n",
            " Digite a idade: 7\n",
            " Digite a altura: 4\n",
            "[7, 4, 4, 4, 4]\n",
            "[4, 1, 4, 4, 4]\n"
          ]
        }
      ]
    },
    {
      "cell_type": "markdown",
      "source": [
        "5. Faça uma função que retorne o reverso de um número inteiro informado. \n",
        "\n",
        "  **strip():** retorna a lista das strings s usando os caracteres em BRANCO como separadores;"
      ],
      "metadata": {
        "id": "YrvdhKK7sqzj"
      }
    },
    {
      "cell_type": "code",
      "source": [
        "def reverso(numero):\n",
        "    return str(numero[::-1]) \n",
        "    #A notação de fatia assume a forma [start:stop:step].\n",
        "    #Nesse caso, omitimos as posições starte stopporque queremos a string inteira.\n",
        "    #Também usamos step = -1, que significa \"passo repetidamente da direita para a esquerda por 1 caractere\".\n",
        "\n",
        "numero = str(input('Digite um número: ')).strip()\n",
        "print(f'Reverso: {reverso(numero)}')"
      ],
      "metadata": {
        "id": "snbIPVJHtyr-"
      },
      "execution_count": null,
      "outputs": []
    }
  ]
}