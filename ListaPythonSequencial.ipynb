{
  "nbformat": 4,
  "nbformat_minor": 0,
  "metadata": {
    "colab": {
      "provenance": [],
      "include_colab_link": true
    },
    "kernelspec": {
      "name": "python3",
      "display_name": "Python 3"
    },
    "language_info": {
      "name": "python"
    }
  },
  "cells": [
    {
      "cell_type": "markdown",
      "metadata": {
        "id": "view-in-github",
        "colab_type": "text"
      },
      "source": [
        "<a href=\"https://colab.research.google.com/github/carolyneolive/carolyneolive/blob/main/ListaPythonSequencial.ipynb\" target=\"_parent\"><img src=\"https://colab.research.google.com/assets/colab-badge.svg\" alt=\"Open In Colab\"/></a>"
      ]
    },
    {
      "cell_type": "markdown",
      "source": [
        "***Resolução da lista de exercício de Python Sequencial ***\n",
        "\n",
        "\n",
        "\n",
        "\n"
      ],
      "metadata": {
        "id": "FmEP_Ja_Z3QV"
      }
    },
    {
      "cell_type": "code",
      "execution_count": null,
      "metadata": {
        "colab": {
          "base_uri": "https://localhost:8080/"
        },
        "id": "W7Qd6HG7ZzKt",
        "outputId": "89a5ccb5-c6b9-4d41-a694-84a2657af2de"
      },
      "outputs": [
        {
          "output_type": "stream",
          "name": "stdout",
          "text": [
            "Olá Mundo!!!\n"
          ]
        }
      ],
      "source": [
        "# 1. Faça um Programa que mostre a mensagem \"Alo mundo\" na tela.\n",
        "\n",
        "print('Olá Mundo!!!') "
      ]
    },
    {
      "cell_type": "code",
      "source": [
        "# 2. Faça um Programa que peça um número e então mostre a mensagem O número informado foi [número]."
      ],
      "metadata": {
        "id": "m0Y21X7gaThg"
      },
      "execution_count": null,
      "outputs": []
    },
    {
      "cell_type": "code",
      "source": [
        "numero = input('Digite um número: ')\n",
        "print(f'O núnero informado foi {numero}')"
      ],
      "metadata": {
        "colab": {
          "base_uri": "https://localhost:8080/"
        },
        "id": "E6AuSDlCaaJy",
        "outputId": "692738b3-26c0-44c5-af37-8e1c137d32d3"
      },
      "execution_count": null,
      "outputs": [
        {
          "output_type": "stream",
          "name": "stdout",
          "text": [
            "Digite um número: 2\n",
            "O núnero informado foi 2\n"
          ]
        }
      ]
    },
    {
      "cell_type": "code",
      "source": [
        "# 3. Faça um Programa que peça dois números e imprima a soma."
      ],
      "metadata": {
        "id": "Njbh98TxasxA"
      },
      "execution_count": null,
      "outputs": []
    },
    {
      "cell_type": "code",
      "source": [
        "numero_1 = int(input('Digite o 1º número: '))\n",
        "numero_2 = int(input('Digite o 2º número: '))\n",
        "soma = (numero_1 + numero_2)\n",
        "print(f'A soma dos dois número é: {soma}')"
      ],
      "metadata": {
        "colab": {
          "base_uri": "https://localhost:8080/"
        },
        "id": "M3_2omgJay1j",
        "outputId": "65626bf7-262c-44d0-a879-f55838b2b05f"
      },
      "execution_count": null,
      "outputs": [
        {
          "output_type": "stream",
          "name": "stdout",
          "text": [
            "Digite o 1º número: 5\n",
            "Digite o 2º número: 9\n",
            "A soma dos dois número é: 14\n"
          ]
        }
      ]
    },
    {
      "cell_type": "code",
      "source": [
        "# 4. Faça um Programa que peça as 4 notas bimestrais e mostre a média."
      ],
      "metadata": {
        "id": "0Czx38qFbXSc"
      },
      "execution_count": null,
      "outputs": []
    },
    {
      "cell_type": "code",
      "source": [
        "nota_1 = int(input('Digite o 1º nota: '))\n",
        "nota_2 = int(input('Digite o 2º nota: '))\n",
        "nota_3 = int(input('Digite o 3º nota: '))\n",
        "nota_4 = int(input('Digite o 4º nota: '))\n",
        "media = (nota_1 + nota_2 + nota_3 + nota_4)/4\n",
        "print(f'A média do bimestre é: {media}')"
      ],
      "metadata": {
        "colab": {
          "base_uri": "https://localhost:8080/"
        },
        "id": "jF_gPr_bbdvC",
        "outputId": "6e297f62-08db-4cc2-fa0c-793c9e6fd062"
      },
      "execution_count": null,
      "outputs": [
        {
          "output_type": "stream",
          "name": "stdout",
          "text": [
            "Digite o 1º nota: 5\n",
            "Digite o 2º nota: 6\n",
            "Digite o 3º nota: 8\n",
            "Digite o 4º nota: 10\n",
            "A média do bimestre é: 7.25\n"
          ]
        }
      ]
    },
    {
      "cell_type": "code",
      "source": [
        "# 5. Faça um Programa que converta metros para centímetros.\n",
        "# 1m - 100cm"
      ],
      "metadata": {
        "id": "_cXAEOPSb4G_"
      },
      "execution_count": null,
      "outputs": []
    },
    {
      "cell_type": "code",
      "source": [
        "valor_metros = int(input('Digite um valor em metros:'))\n",
        "conversao = valor_metros*100\n",
        "print(f'O valor digitado equilave a {valor_metros}m, com a conversão para centímetros temos {conversao}cm ')\n"
      ],
      "metadata": {
        "colab": {
          "base_uri": "https://localhost:8080/"
        },
        "id": "onafLX3Db8Mz",
        "outputId": "c453f852-cb57-470a-dc41-16ea84f2c55d"
      },
      "execution_count": null,
      "outputs": [
        {
          "output_type": "stream",
          "name": "stdout",
          "text": [
            "Digite um valor em metros:75\n",
            "O valor digitado equilave a 75m, com a conversão para centímetros temos 7500cm \n"
          ]
        }
      ]
    },
    {
      "cell_type": "code",
      "source": [
        "# 6. Faça um Programa que peça o raio de um círculo, calcule e mostre sua área.\n",
        "# A = π r²"
      ],
      "metadata": {
        "id": "oseZrnqmdRS2"
      },
      "execution_count": null,
      "outputs": []
    },
    {
      "cell_type": "code",
      "source": [
        "import numpy as np \n",
        "\n",
        "raio = float(input('Digite o tamanho do raio: '))\n",
        "\n",
        "area = (np.pi) * raio**2\n",
        "print(f'A área é: {area:.2f}')"
      ],
      "metadata": {
        "colab": {
          "base_uri": "https://localhost:8080/"
        },
        "id": "R4BOpLuudeUX",
        "outputId": "dc19e239-3309-4388-a27c-706082af3a7e"
      },
      "execution_count": null,
      "outputs": [
        {
          "output_type": "stream",
          "name": "stdout",
          "text": [
            "Digite o tamanho do raio: 5\n",
            "A área é: 78.54\n"
          ]
        }
      ]
    },
    {
      "cell_type": "code",
      "source": [
        "# 7. Faça um Programa que calcule a área de um quadrado, em seguida mostre o dobro desta área para o usuário.\n",
        "# A = b.h"
      ],
      "metadata": {
        "id": "8Q8M0zXAfNrD"
      },
      "execution_count": null,
      "outputs": []
    },
    {
      "cell_type": "code",
      "source": [
        "base = int(input('Digite a base do quadrado:'))\n",
        "altura = int(input('Digite a altura do quadrado:'))\n",
        "area1 = base * altura\n",
        "dobro = 2*area1 \n",
        "print (f'O dobro da área ({area1}) é: {dobro}')"
      ],
      "metadata": {
        "colab": {
          "base_uri": "https://localhost:8080/"
        },
        "id": "byxY0V1vfnHk",
        "outputId": "518dd2e8-197a-44c2-e5b8-d3d7fe8cfafe"
      },
      "execution_count": null,
      "outputs": [
        {
          "output_type": "stream",
          "name": "stdout",
          "text": [
            "Digite a base do quadrado:5\n",
            "Digite a altura do quadrado:2\n",
            "O dobro da área (10) é: 20\n"
          ]
        }
      ]
    },
    {
      "cell_type": "code",
      "source": [
        "# 8. Faça um Programa que pergunte quanto você ganha por hora e o número de horas trabalhadas no mês. Calcule e mostre o total do seu salário no referido mês.\n"
      ],
      "metadata": {
        "id": "JOWwLcHRgUpF"
      },
      "execution_count": null,
      "outputs": []
    },
    {
      "cell_type": "code",
      "source": [
        "ganho_hora = float(input('Quando você ganha por hora: '))\n",
        "numero_hora = int(input('Qual o número de horas trabalhadas no mês: '))\n",
        "total_mensal = ganho_hora*numero_hora\n",
        "print(f'No mês eu ganho R$ {total_mensal:.2f}')\n"
      ],
      "metadata": {
        "colab": {
          "base_uri": "https://localhost:8080/"
        },
        "id": "XvjYziIWhZH6",
        "outputId": "42d85d61-452f-4793-ddd9-9ce54cff63c1"
      },
      "execution_count": null,
      "outputs": [
        {
          "output_type": "stream",
          "name": "stdout",
          "text": [
            "Quando você ganha por hora: 70\n",
            "Qual o número de horas trabalhadas no mês: 40\n",
            "No mês eu ganho R$ 2800.00\n"
          ]
        }
      ]
    },
    {
      "cell_type": "code",
      "source": [
        "# 9. Faça um Programa que peça a temperatura em graus Fahrenheit, transforme e mostre a temperatura em graus Celsius.\n",
        "# C = 5 * ((F-32) / 9)."
      ],
      "metadata": {
        "id": "lqxd2KtPiFXj"
      },
      "execution_count": null,
      "outputs": []
    },
    {
      "cell_type": "code",
      "source": [
        "temperatura_Fahrenheit = float(input('Qual a temperatura em graus Fahrenheit: '))\n",
        "Celsius = 5.0 * ((temperatura_Fahrenheit-32) / 9)\n",
        "print(f'A temperatura em graus Celsius é {Celsius:.2f}') "
      ],
      "metadata": {
        "colab": {
          "base_uri": "https://localhost:8080/"
        },
        "id": "zzmx_ZCpiJqD",
        "outputId": "71325e8a-3110-4e67-b092-d2109338bdbf"
      },
      "execution_count": null,
      "outputs": [
        {
          "output_type": "stream",
          "name": "stdout",
          "text": [
            "Qual a temperatura em graus Fahrenheit: 50\n",
            "A temperatura em graus Celsius é 10.00\n"
          ]
        }
      ]
    },
    {
      "cell_type": "code",
      "source": [
        "# 10.Faça um Programa que peça a temperatura em graus Celsius, transforme e mostre em graus Fahrenheit.\n",
        "# F = (°C x 1,8) + 32"
      ],
      "metadata": {
        "id": "jKeeGqyki7hb"
      },
      "execution_count": null,
      "outputs": []
    },
    {
      "cell_type": "code",
      "source": [
        "temperatura_Celsius = float(input('Qual a temperatura em graus Celsius: '))\n",
        "Fahrenheit = (temperatura_Celsius * 1.8) + 32\n",
        "print(f'A temperatura em graus Fahrenheit é {Fahrenheit:.2f}') "
      ],
      "metadata": {
        "colab": {
          "base_uri": "https://localhost:8080/"
        },
        "id": "2QOdXSsyjAMt",
        "outputId": "457beaf1-c224-4b26-a2e0-68d0ac13903c"
      },
      "execution_count": null,
      "outputs": [
        {
          "output_type": "stream",
          "name": "stdout",
          "text": [
            "Qual a temperatura em graus Celsius: 10\n",
            "A temperatura em graus Fahrenheit é 50.00\n"
          ]
        }
      ]
    },
    {
      "cell_type": "code",
      "source": [
        "# 11.Faça um Programa que peça 2 números inteiros e um número real. Calcule e mostre:\n",
        "#   a) o produto do dobro do primeiro com metade do segundo .\n",
        "#   b) a soma do triplo do primeiro com o terceiro.\n",
        "#   c) o terceiro elevado ao cubo."
      ],
      "metadata": {
        "id": "4nliT2ZIjyaE"
      },
      "execution_count": null,
      "outputs": []
    },
    {
      "cell_type": "code",
      "source": [
        "numero_int_1 = int(input('Digite o 1º número inteiro: '))\n",
        "numero_int_2 = int(input('Digite o 2º número inteiro: '))\n",
        "numero_real_1 = float(input('Digite o 1º número real: '))\n",
        "\n",
        "metade_numero_int_2 = numero_int_2/2\n",
        "dobro_numero_int_1 = 2 * numero_int_1\n",
        "a = dobro_numero_int_1 + metade_numero_int_2\n",
        "print(f'O produto do dobro do primeiro com metade do segundo: {a}')\n",
        "\n",
        "triplo_numero_int_1 = 3 * numero_int_1\n",
        "b = triplo_numero_int_1 + numero_real_1\n",
        "print(f'A soma do triplo do primeiro com o terceiro: {b}')\n",
        "\n",
        "c = numero_real_1 ** 3\n",
        "print(f'O terceiro elevado ao cubo: {c}')\n"
      ],
      "metadata": {
        "colab": {
          "base_uri": "https://localhost:8080/"
        },
        "id": "nsRfyk5nj6b9",
        "outputId": "7f139ad5-aada-4e1d-8676-396a2410ea17"
      },
      "execution_count": null,
      "outputs": [
        {
          "output_type": "stream",
          "name": "stdout",
          "text": [
            "Digite o 1º número inteiro: 2\n",
            "Digite o 2º número inteiro: 5\n",
            "Digite o 1º número real: 4\n",
            "O produto do dobro do primeiro com metade do segundo: 6.5\n",
            "A soma do triplo do primeiro com o terceiro: 10.0\n",
            "O terceiro elevado ao cubo: 64.0\n"
          ]
        }
      ]
    },
    {
      "cell_type": "code",
      "source": [
        "# 12. Tendo como dados de entrada a altura de uma pessoa, construa um algoritmo que calcule seu peso ideal, usando a seguinte fórmula: (72.7*altura) - 58"
      ],
      "metadata": {
        "id": "lYBjPd5glkJU"
      },
      "execution_count": null,
      "outputs": []
    },
    {
      "cell_type": "code",
      "source": [
        "altura_1 = float(input('Digite a altura: '))\n",
        "peso = (72.7*altura_1) - 58\n",
        "print(f'O peso ideial desta pessoa é: {peso:.2f}') "
      ],
      "metadata": {
        "colab": {
          "base_uri": "https://localhost:8080/"
        },
        "id": "r0ZzdzEOls6a",
        "outputId": "9dc2528a-911f-40ea-bf56-7acc37182308"
      },
      "execution_count": null,
      "outputs": [
        {
          "output_type": "stream",
          "name": "stdout",
          "text": [
            "Digite a altura: 1.54\n",
            "O peso ideial desta pessoa é: 53.96\n"
          ]
        }
      ]
    },
    {
      "cell_type": "code",
      "source": [
        "# 13. Tendo como dado de entrada a altura (h) de uma pessoa, construa um algoritmo que calcule seu peso ideal, utilizando as seguintes fórmulas:\n",
        "#   a)Para homens: (72.7*h) - 58\n",
        "#   b)Para mulheres: (62.1*h) - 44.7"
      ],
      "metadata": {
        "id": "M_F4D9vsmLF6"
      },
      "execution_count": null,
      "outputs": []
    },
    {
      "cell_type": "code",
      "source": [
        "altura_2 = float(input('Digite a altura: '))\n",
        "peso_homem = (72.7*altura_2) - 58\n",
        "peso_mulher = (62.1*altura_2) - 44.7\n",
        "print(f'O peso ideial para o homem é: {peso_homem:.2f}') \n",
        "print(f'O peso ideial para a mulher é: {peso_mulher:.2f}') "
      ],
      "metadata": {
        "colab": {
          "base_uri": "https://localhost:8080/"
        },
        "id": "-gNSYhxemUuz",
        "outputId": "3cfa057d-0e1f-4438-ef86-749e79cd23b0"
      },
      "execution_count": null,
      "outputs": [
        {
          "output_type": "stream",
          "name": "stdout",
          "text": [
            "Digite a altura: 1.54\n",
            "O peso ideial para o homem é: 53.96\n",
            "O peso ideial para a mulher é: 50.93\n"
          ]
        }
      ]
    },
    {
      "cell_type": "code",
      "source": [
        "# 14. João Papo-de-Pescador, homem de bem, comprou um microcomputador para controlar o rendimento diário de seu trabalho. Toda vez que ele traz \n",
        "# um peso de peixes maior que o estabelecido pelo regulamento de pesca do estado de São Paulo (50 quilos) deve pagar uma multa de R$ 4,00 por quilo\n",
        "# excedente. João precisa que você faça um programa que leia a variável peso (peso de peixes) e calcule o excesso. \n",
        "# Gravar na variável excesso a quantidade de quilos além do limite e na variável multa o valor da multa que João deverá pagar. \n",
        "# Imprima os dados do programa com as mensagens adequadas."
      ],
      "metadata": {
        "id": "DdwA5K3Vmy7r"
      },
      "execution_count": null,
      "outputs": []
    },
    {
      "cell_type": "code",
      "source": [
        "peso_peixe = float(input('Digite o peso do peixe pescado:'))\n",
        "excesso = peso_peixe - 50\n",
        "multa = excesso * 4.00\n",
        "print(f'João vai pagar de multa ao estado de São Paula R${multa:.2f} por ter ultrapassado o limite de peso em {excesso} kilos')"
      ],
      "metadata": {
        "colab": {
          "base_uri": "https://localhost:8080/"
        },
        "id": "avdCJYjvnA-c",
        "outputId": "bdc7f5c8-bd1a-49e9-8a9e-232cc862180b"
      },
      "execution_count": null,
      "outputs": [
        {
          "output_type": "stream",
          "name": "stdout",
          "text": [
            "Digite o peso do peixe pescado:80\n",
            "João vai pagar de multa ao estado de São Paula R$120.00 por ter ultrapassado o limite de peso em 30.0 kilos\n"
          ]
        }
      ]
    },
    {
      "cell_type": "code",
      "source": [
        "# 15. Faça um Programa que pergunte quanto você ganha por hora e o número de horas trabalhadas no mês. \n",
        "#Calcule e mostre o total do seu salário no referido mês, sabendo-se que são descontados 11% para o \n",
        "#Imposto de Renda, 8% para o INSS e 5% para o sindicato, faça um programa que nos dê:\n",
        "#   salário bruto. \n",
        "#   quanto pagou ao INSS.\n",
        "#   quanto pagou ao sindicato.\n",
        "#   o salário líquido.\n",
        "# calcule os descontos e o salário líquido, conforme a tabela abaixo:\n",
        "#       + Salário Bruto : R$\n",
        "#       - IR (11%) : R$\n",
        "#       - INSS (8%) : R$\n",
        "#       - Sindicato ( 5%) : R$\n",
        "#       = Salário Liquido : R$\n",
        "# Obs.: Salário Bruto - Descontos = Salário Líquido."
      ],
      "metadata": {
        "id": "LitszKXxodK6"
      },
      "execution_count": null,
      "outputs": []
    },
    {
      "cell_type": "code",
      "source": [
        "ganho_hora1 = float(input('Quando você ganha por hora: '))\n",
        "numero_hora1 = int(input('Qual o número de horas trabalhadas no mês: '))\n",
        "salario_bruto = ganho_hora1*numero_hora1\n",
        "IR = salario_bruto * 0.11\n",
        "INSS = salario_bruto * 0.08\n",
        "Sindicato = salario_bruto * 0.05\n",
        "desconto = IR + INSS + Sindicato\n",
        "salario_liquido = salario_bruto - desconto\n",
        "\n",
        "print(f'No mês o salário bruto é de R$ {salario_bruto:.2f}')\n",
        "print(f'O desconto do mês de IR R$ {IR:.2f}, INSS R$ {INSS:.2f} e Sindicato R$ {Sindicato:.2f} no qual o total descontado foi de R${desconto}')\n",
        "print(f'No mês o salário líquido é de R$ {salario_liquido:.2f}')"
      ],
      "metadata": {
        "colab": {
          "base_uri": "https://localhost:8080/"
        },
        "id": "gcrufEflo8wl",
        "outputId": "33797321-a48b-4041-84dd-de51f1624a44"
      },
      "execution_count": null,
      "outputs": [
        {
          "output_type": "stream",
          "name": "stdout",
          "text": [
            "Quando você ganha por hora: 10\n",
            "Qual o número de horas trabalhadas no mês: 10\n",
            "No mês o salário bruto é de R$ 100.00\n",
            "O desconto do mês de IR R$ 11.00, INSS R$ 8.00 e Sindicato R$ 5.00 no qual o total é R$24.0\n",
            "No mês o salário líquido é de R$ 76.00\n"
          ]
        }
      ]
    },
    {
      "cell_type": "code",
      "source": [
        "# 16. Faça um programa para uma loja de tintas. O programa deverá pedir o tamanho em metros quadrados da área a ser pintada. \n",
        "#Considere que a cobertura da tinta é de 1 litro para cada 3 metros quadrados e que a tinta é vendida em latas de 18 litros, \n",
        "# que custam R$ 80,00. Informe ao usuário a quantidades de latas de tinta a serem compradas e o preço total."
      ],
      "metadata": {
        "id": "vqFueb4msiys"
      },
      "execution_count": null,
      "outputs": []
    },
    {
      "cell_type": "code",
      "source": [
        "tamanho_m_quadrado_parede = float(input('Digite o tamanho em metros quadrados da área a ser pintada: '))\n",
        "cobertura_da_tinta_1_litro = ((tamanho_m_quadrado_parede)/3)\n",
        "capacidade_pintura = 18\n",
        "preco = 80.0\n",
        "\n",
        "latas = cobertura_da_tinta_1_litro/capacidade_pintura\n",
        "\n",
        "totall = latas * preco\n",
        "\n",
        "print(f' Você usará {latas:.2f} lata(s) de tinta')\n",
        "print(f' O preco total é de: R$ {totall:.2f}')\n",
        "\n",
        "\n"
      ],
      "metadata": {
        "colab": {
          "base_uri": "https://localhost:8080/"
        },
        "id": "ZrtGvTxnsp78",
        "outputId": "6a6f03fe-e284-4eed-b9f1-43fe09d4f90e"
      },
      "execution_count": null,
      "outputs": [
        {
          "output_type": "stream",
          "name": "stdout",
          "text": [
            "Digite o tamanho em metros quadrados da área a ser pintada: 54\n",
            " Você usará 1.00 lata(s) de tinta\n",
            " O preco total é de: R$ 80.00\n"
          ]
        }
      ]
    },
    {
      "cell_type": "code",
      "source": [
        "#Faça um Programa para uma loja de tintas. O programa deverá pedir o tamanho em metros quadrados da área a ser pintada. \n",
        "#Considere que a cobertura da tinta é de 1 litro para cada 6 metros quadrados e que a tinta é vendida em latas de 18 litros, que custam R$ 80,00 ou em galões de 3,6 litros, que custam R$ 25,00.\n",
        "#Informe ao usuário as quantidades de tinta a serem compradas e os respectivos preços em 3 situações:\n",
        "#comprar apenas latas de 18 litros;\n",
        "#comprar apenas galões de 3,6 litros;\n",
        "#misturar latas e galões, de forma que o desperdício de tinta seja menor. Acrescente 10% de folga e sempre arredonde os valores para cima, isto é, considere latas cheias."
      ],
      "metadata": {
        "id": "b5yBIix1-L18"
      },
      "execution_count": null,
      "outputs": []
    },
    {
      "cell_type": "code",
      "source": [
        "tamanho_m_quadrado_parede = float(input('Digite o tamanho em metros quadrados da área a ser pintada: '))\n",
        "cobertura_da_tinta_1_litro = ((tamanho_m_quadrado_parede)/6)\n",
        "capacidade_pintura_lata = 18\n",
        "capacidade_pintura_galao = 3.6\n",
        "preco_lata = 80.0\n",
        "preco_galao = 25.0\n",
        "\n",
        "latas = cobertura_da_tinta_1_litro/capacidade_pintura_lata\n",
        "galoes = cobertura_da_tinta_1_litro/capacidade_pintura_galao\n",
        "\n",
        "totallata = latas * preco_lata\n",
        "totalgalao = latas * preco_galao\n",
        "\n",
        "lata_grande = latas\n",
        "lata_pequena = (cobertura_da_tinta_1_litro -(lata_grande*180))/21.6\n",
        "\n",
        "print(f' Você usará {latas:.2f} lata(s) de tinta')\n",
        "print(f' O preco total é de: R$ {totallata:.2f}')\n",
        "\n",
        "print(f' Você usará {galoes:.2f} lata(s) de tinta')\n",
        "print(f' O preco total é de: R$ {totalgalao:.2f}')\n",
        "\n",
        "print(f' Latas Grandes {lata_grande:.0f} e latas pequenas {lata_pequena:.0f} ')\n",
        "\n"
      ],
      "metadata": {
        "id": "BNrgRwKd-gnO"
      },
      "execution_count": null,
      "outputs": []
    },
    {
      "cell_type": "code",
      "source": [],
      "metadata": {
        "id": "PKYZxkSu-5Jx"
      },
      "execution_count": null,
      "outputs": []
    }
  ]
}