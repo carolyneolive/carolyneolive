{
  "nbformat": 4,
  "nbformat_minor": 0,
  "metadata": {
    "colab": {
      "provenance": [],
      "collapsed_sections": [],
      "authorship_tag": "ABX9TyM146bQWOcSpRItKJpYTM5i",
      "include_colab_link": true
    },
    "kernelspec": {
      "name": "python3",
      "display_name": "Python 3"
    },
    "language_info": {
      "name": "python"
    }
  },
  "cells": [
    {
      "cell_type": "markdown",
      "metadata": {
        "id": "view-in-github",
        "colab_type": "text"
      },
      "source": [
        "<a href=\"https://colab.research.google.com/github/carolyneolive/carolyneolive/blob/main/ListaEstruturaDecis%C3%A3o.ipynb\" target=\"_parent\"><img src=\"https://colab.research.google.com/assets/colab-badge.svg\" alt=\"Open In Colab\"/></a>"
      ]
    },
    {
      "cell_type": "markdown",
      "source": [
        "**Lista de Exercício de Estrutura de Decisão**"
      ],
      "metadata": {
        "id": "s-HlMahKPv5l"
      }
    },
    {
      "cell_type": "code",
      "execution_count": null,
      "metadata": {
        "colab": {
          "base_uri": "https://localhost:8080/"
        },
        "id": "XbprUD5WPr9v",
        "outputId": "6a4e330c-0194-453a-ec68-8a3274ee60bf"
      },
      "outputs": [
        {
          "output_type": "stream",
          "name": "stdout",
          "text": [
            "Digite o 1º número: 9\n",
            "Digite o 2º número: 6\n",
            "O número - 9 é maior\n"
          ]
        }
      ],
      "source": [
        "# 1. Faça um Programa que peça dois números e imprima o maior deles.\n",
        "\n",
        "numero1 = int(input('Digite o 1º número: '))\n",
        "numero2 = int(input('Digite o 2º número: '))\n",
        "\n",
        "if numero1>numero2:\n",
        "    print(f'O número - {numero1} é maior')\n",
        "else:\n",
        "    print(f'O número - {numero2} é maior')"
      ]
    },
    {
      "cell_type": "code",
      "source": [
        "# 2. Faça um Programa que peça um valor e mostre na tela se o valor é positivo ou negativo.\n",
        "\n",
        "valor = int(input('Digite um valor qualquer: '))\n",
        "\n",
        "if valor>=0:\n",
        "    print(\"O valor é positivo\")\n",
        "else:\n",
        "    print(\"O valor é negativo\")"
      ],
      "metadata": {
        "colab": {
          "base_uri": "https://localhost:8080/"
        },
        "id": "ex-HCsAkROU6",
        "outputId": "95ca91a8-f00b-48c3-9ad1-1acff0616cff"
      },
      "execution_count": null,
      "outputs": [
        {
          "output_type": "stream",
          "name": "stdout",
          "text": [
            "Digite um valor qualquer: 5\n",
            "O valor é positivo\n"
          ]
        }
      ]
    },
    {
      "cell_type": "code",
      "source": [
        "# 3.Faça um Programa que verifique se uma letra digitada é \"F\" ou \"M\". Conforme a letra escrever: F - Feminino, M - Masculino, Sexo Inválido.\n",
        "\n",
        "letra = str(input('Digite \"F\" ou \"M\" : '))\n",
        "\n",
        "if letra==\"F\" or letra==\"f\" :\n",
        "    print(\"F - Feminino\")\n",
        "elif letra==\"M\" or letra==\"m\" :\n",
        "    print(\"M - Masculino\")\n",
        "else:\n",
        "    print('Sexo Inválido')\n",
        "\n"
      ],
      "metadata": {
        "colab": {
          "base_uri": "https://localhost:8080/"
        },
        "id": "ZLnsP7VLRvg3",
        "outputId": "a849b7e1-8c23-44b6-fc30-9fea14e83118"
      },
      "execution_count": null,
      "outputs": [
        {
          "output_type": "stream",
          "name": "stdout",
          "text": [
            "Digite \"F\" ou \"M\" : y\n",
            "Sexo Inválido\n"
          ]
        }
      ]
    },
    {
      "cell_type": "code",
      "source": [
        "# 4.Faça um Programa que verifique se uma letra digitada é vogal ou consoante.\n",
        "\n",
        "letra_V_C = str(input('Digite um carectere : '))\n",
        "\n",
        "if letra_V_C==\"a\" or letra_V_C==\"A\":\n",
        "    print(\"É uma vogal\")\n",
        "elif letra_V_C==\"e\" or letra_V_C==\"E\":\n",
        "    print(\"É uma vogal\")\n",
        "elif letra_V_C == \"i\" or letra_V_C==\"I\":\n",
        "    print(\"É uma vogal\")\n",
        "elif letra_V_C == \"o\" or letra_V_C==\"O\":\n",
        "    print(\"É uma vogal\")\n",
        "elif letra_V_C == \"u\" or letra_V_C==\"U\":\n",
        "    print(\"É uma vogal\")\n",
        "else:\n",
        "    print(\"É uma consoante\")\n",
        "\n",
        "#Obs: neste código se for digitado um número ele é visto como consoante.\n",
        "\n",
        "\n",
        "  \n"
      ],
      "metadata": {
        "colab": {
          "base_uri": "https://localhost:8080/"
        },
        "id": "9hV0eBB6SlhV",
        "outputId": "b169d8f9-73f8-49b6-cebf-5b9b5de74ef9"
      },
      "execution_count": null,
      "outputs": [
        {
          "output_type": "stream",
          "name": "stdout",
          "text": [
            "Digite um carectere : e\n",
            "É uma vogal\n"
          ]
        }
      ]
    },
    {
      "cell_type": "code",
      "source": [
        "#str.isalpha()\n",
        "#Retorna Truese todos os caracteres da string forem alfabéticos e houver pelo menos um caractere, Falsecaso contrário. Caracteres alfabéticos são aqueles caracteres\n",
        "#definidos no banco de dados de caracteres Unicode como “Letter”\n",
        "Vogal_Consoante = input(\"Informe uma letra ou consoante:\")\n",
        "\n",
        "if Vogal_Consoante.isalpha():\n",
        "    if Vogal_Consoante==\"a\" or Vogal_Consoante==\"A\":\n",
        "        print(\"É uma vogal\")\n",
        "    elif Vogal_Consoante== \"e\" or Vogal_Consoante==\"E\":\n",
        "        print(\"É uma vogal\")\n",
        "    elif Vogal_Consoante== \"i\" or Vogal_Consoante==\"I\":\n",
        "        print(\"É uma vogal\")\n",
        "    elif Vogal_Consoante== \"o\" or Vogal_Consoante==\"O\":\n",
        "        print(\"É uma vogal\")\n",
        "    elif Vogal_Consoante== \"u\" or Vogal_Consoante==\"U\":\n",
        "        print(\"É uma vogal\")\n",
        "    else:\n",
        "        print(\"Consoante\")\n",
        "else:\n",
        "    print(\"Não é uma letra!\")"
      ],
      "metadata": {
        "colab": {
          "base_uri": "https://localhost:8080/"
        },
        "id": "SL9j87EHWDe9",
        "outputId": "d4dfbc7d-1ddf-4dde-900f-3d00e7a6285c"
      },
      "execution_count": null,
      "outputs": [
        {
          "output_type": "stream",
          "name": "stdout",
          "text": [
            "Informe uma letra ou consoante:5\n",
            "Não é uma letra!\n"
          ]
        }
      ]
    },
    {
      "cell_type": "code",
      "source": [
        "# 5. Faça um programa para a leitura de duas notas parciais de um aluno. O programa deve calcular a média alcançada por aluno e apresentar:\n",
        "#A mensagem \"Aprovado\", se a média alcançada for maior ou igual a sete;\n",
        "#A mensagem \"Reprovado\", se a média for menor do que sete;\n",
        "#A mensagem \"Aprovado com Distinção\", se a média for igual a dez.\n",
        "\n",
        "nota1 = float(input('Digite o 1º nota: '))\n",
        "nota2 = float(input('Digite o 2º nota: '))\n",
        "\n",
        "media = (nota1+nota2)/2\n",
        "\n",
        "if media==10:\n",
        "    print(\"Aprovado com Distinção\")\n",
        "elif media>=7:\n",
        "    print(\"Aprovado\")\n",
        "else:\n",
        "    print(\"Reporvado\")"
      ],
      "metadata": {
        "colab": {
          "base_uri": "https://localhost:8080/"
        },
        "id": "i_N5wYRcWR9V",
        "outputId": "1aa263f1-76a3-46d7-8a96-f656b1cd9049"
      },
      "execution_count": null,
      "outputs": [
        {
          "output_type": "stream",
          "name": "stdout",
          "text": [
            "Digite o 1º nota: 2\n",
            "Digite o 2º nota: 5\n",
            "Reporvado\n"
          ]
        }
      ]
    },
    {
      "cell_type": "code",
      "source": [
        "# 6.Faça um Programa que leia três números e mostre o maior deles.\n",
        "\n",
        "num1 = int(input('Digite o 1º número: '))\n",
        "num2 = int(input('Digite o 2º número: '))\n",
        "num3 = int(input('Digite o 2º número: '))\n",
        "\n",
        "if num1>num2 and num1>num3:\n",
        "    print(f'O 1º número é maior')\n",
        "elif num2>num1 and num2>num3:\n",
        "    print(f'O 2º número é maior')\n",
        "else:\n",
        "    print(f'O 3º número é maior')\n"
      ],
      "metadata": {
        "colab": {
          "base_uri": "https://localhost:8080/"
        },
        "id": "usxSTFaZXeR7",
        "outputId": "22424177-e567-4405-b8c8-6cd653aead50"
      },
      "execution_count": null,
      "outputs": [
        {
          "output_type": "stream",
          "name": "stdout",
          "text": [
            "Digite o 1º número: 2\n",
            "Digite o 2º número: 8\n",
            "Digite o 2º número: 6\n",
            "O 2º número é maior\n"
          ]
        }
      ]
    },
    {
      "cell_type": "code",
      "source": [
        "# 7.Faça um Programa que leia três números e mostre o maior e o menor deles.\n",
        "\n",
        "n1 = int(input('Digite o 1º número: '))\n",
        "n2 = int(input('Digite o 2º número: '))\n",
        "n3 = int(input('Digite o 3º número: '))\n",
        "\n",
        "if n1>n2 and n1>n3:\n",
        "    print(f'O 1º número é maior:{n1}')\n",
        "elif n2>n1 and n2>n3:\n",
        "    print(f'O 2º número é maior:{n2}')\n",
        "else:\n",
        "    print(f'O 3º número é maior:{n3}')\n",
        "\n",
        "if n1<n2 and n1<n3:\n",
        "    print(f'O 1º número é menor:{n1}')\n",
        "elif n2<n1 and n2<n3:\n",
        "    print(f'O 2º número é menor:{n2}')\n",
        "else:\n",
        "    print(f'O 3º número é menor:{n3}')\n"
      ],
      "metadata": {
        "colab": {
          "base_uri": "https://localhost:8080/"
        },
        "id": "FJ9euydZfooE",
        "outputId": "bea81897-261a-485f-e492-9e815b630260"
      },
      "execution_count": null,
      "outputs": [
        {
          "output_type": "stream",
          "name": "stdout",
          "text": [
            "Digite o 1º número: 2\n",
            "Digite o 2º número: 8\n",
            "Digite o 2º número: 6\n",
            "O 2º número é maior:8\n",
            "O 1º número é menor:2\n"
          ]
        }
      ]
    },
    {
      "cell_type": "code",
      "source": [
        "# 8.Faça um programa que pergunte o preço de três produtos e informe qual produto você deve comprar, sabendo que a decisão é sempre pelo mais barato.\n",
        "\n",
        "preco1 = float(input('Digite o 1º número: '))\n",
        "preco2 = float(input('Digite o 2º número: '))\n",
        "preco3 = float(input('Digite o 3º número: '))\n",
        "\n",
        "if preco1<preco2 and preco1<preco3:\n",
        "    print(f'O produto que deve comprar é: {preco1:.2f}')\n",
        "elif preco2<preco1 and preco2<preco3:\n",
        "    print(f'O produto que deve comprar é: {preco2:.2f}')\n",
        "else:\n",
        "    print(f'O produto que deve comprar é: {preco3:.2f}')\n",
        "\n"
      ],
      "metadata": {
        "colab": {
          "base_uri": "https://localhost:8080/"
        },
        "id": "acpUgOBSgrGM",
        "outputId": "8e05f16b-0b9e-448a-9b7d-0a6a277396e9"
      },
      "execution_count": null,
      "outputs": [
        {
          "output_type": "stream",
          "name": "stdout",
          "text": [
            "Digite o 1º número: 2.56\n",
            "Digite o 2º número: 6.52\n",
            "Digite o 3º número: 1.52\n",
            "O produto que deve comprar é:1.52\n"
          ]
        }
      ]
    },
    {
      "cell_type": "code",
      "source": [
        "# 9.Faça um Programa que leia três números e mostre-os em ordem decrescente.\n",
        "\n",
        "n01 = int(input('Digite o 1º número: '))\n",
        "n02 = int(input('Digite o 2º número: '))\n",
        "n03 = int(input('Digite o 3º número: '))\n",
        "\n",
        "if n01 >= n02 and n01 >= n03 and n02 >= n03:\n",
        "    print(f'A ordem decrescente é {n01} , {n02} e {n03}')\n",
        "elif n01 >= n02 and n01 >=n03 and n03 >= n02:\n",
        "    print(f'A ordem decrescente é {n01} , {n03} e {n02}')\n",
        "elif n02 >= n01 and n02 >= n03 and n01 >= n03:\n",
        "    print(f'A ordem decrescente é {n02} , {n01} e {n03}')\n",
        "elif n02 >= n01 and n02 >= n03 and n03 >= n01:\n",
        "    print(f'A ordem decrescente é {n02} , {n03} e {n01}')\n",
        "elif n03 >= n01 and n03 >= n02 and n01 >=n02:\n",
        "    print(f'A ordem decrescente é {n03} , {n01} e {n02}')\n",
        "elif n03 >= n01 and n03 >= n02 and n02 >= n01:\n",
        "    print(f'A ordem decrescente é {n03} , {n02} e {n01}')\n",
        "\n"
      ],
      "metadata": {
        "colab": {
          "base_uri": "https://localhost:8080/"
        },
        "id": "riJaIFEGh0sb",
        "outputId": "bedf99a9-61a4-469b-fd5c-e3c6617104e7"
      },
      "execution_count": null,
      "outputs": [
        {
          "output_type": "stream",
          "name": "stdout",
          "text": [
            "Digite o 1º número: 3\n",
            "Digite o 2º número: 5\n",
            "Digite o 3º número: 1\n",
            "A ordem decrescente é 5 , 3 e 1\n"
          ]
        }
      ]
    },
    {
      "cell_type": "code",
      "source": [
        "# 10.Faça um Programa que pergunte em que turno você estuda. Peça para digitar M-matutino ou V-Vespertino ou \n",
        "#N- Noturno. Imprima a mensagem \"Bom Dia!\", \"Boa Tarde!\" ou \"Boa Noite!\" ou \"Valor Inválido!\", conforme o caso.\n",
        "\n",
        "turno = str(input('''Em que turno você estuda. \n",
        "Digite M-matutino ou V-Vespertino ou N- Noturno'''))\n",
        "\n",
        "if turno==\"N\" or turno==\"n\" :\n",
        "    print(\"Boa Noite!\")\n",
        "elif turno==\"V\" or turno==\"v\" :\n",
        "    print(\"Boa tarde!\") \n",
        "elif turno==\"M\" or turno==\"m\" :\n",
        "    print(\"Bom dia!\")\n",
        "else:\n",
        "    print('Valor Inválido!')"
      ],
      "metadata": {
        "colab": {
          "base_uri": "https://localhost:8080/"
        },
        "id": "HPkOUv2_fm9y",
        "outputId": "1e21c8f4-2fb7-481a-bf42-8eea9221dec9"
      },
      "execution_count": null,
      "outputs": [
        {
          "output_type": "stream",
          "name": "stdout",
          "text": [
            "Em que turno você estuda. \n",
            "Digite M-matutino ou V-Vespertino ou N- Noturnov\n",
            "Boa tarde!\n"
          ]
        }
      ]
    },
    {
      "cell_type": "code",
      "source": [
        "#As Organizações Tabajara resolveram dar um aumento de salário aos seus colaboradores e lhe contraram para desenvolver o programa que calculará os reajustes.\n",
        "#Faça um programa que recebe o salário de um colaborador e o reajuste segundo o seguinte critério, baseado no salário atual:\n",
        "#salários até R$ 280,00 (incluindo) : aumento de 20%\n",
        "#salários entre R$ 280,00 e R$ 700,00 : aumento de 15%\n",
        "#salários entre R$ 700,00 e R$ 1500,00 : aumento de 10%\n",
        "#salários de R$ 1500,00 em diante : aumento de 5% Após o aumento ser realizado, informe na tela:\n",
        "#o salário antes do reajuste;\n",
        "#o percentual de aumento aplicado;\n",
        "#o valor do aumento;\n",
        "#o novo salário, após o aumento.\n",
        "\n",
        "salario = float(input(\"Digite o salário do colaborador: \"))\n",
        "\n",
        "if salario<280:\n",
        "    percentual=0.2\n",
        "    aumento = salario*percentual\n",
        "elif salario>=280 and salario<700:\n",
        "    percentual=0.15\n",
        "    aumento = salario*percentual\n",
        "elif salario>=700 and salario<1500:\n",
        "    percentual=0.10\n",
        "    aumento = salario*percentual\n",
        "else:\n",
        "    percentual=0.05\n",
        "    aumento = salario*percentual\n",
        "\n",
        "print(f\"0 salário antes do reajuste: R$ {salario:.2f}\")\n",
        "print(f\"0 percentual de aumento aplicado: {percentual:.1%}\")\n",
        "print(f\"0 valor do aumento: R$ {aumento:.2f}\")\n",
        "print(f\"0 novo salário, após o aumento: R$ {salario+aumento:.2f}\")\n",
        "\n",
        "\n"
      ],
      "metadata": {
        "colab": {
          "base_uri": "https://localhost:8080/"
        },
        "id": "QIC5k2oL4Tt_",
        "outputId": "b1ff9eb7-cd14-473c-d83a-f6b7f3067bf8"
      },
      "execution_count": null,
      "outputs": [
        {
          "output_type": "stream",
          "name": "stdout",
          "text": [
            "Digite o salário do colaborador: 750\n",
            "0 salário antes do reajuste: R$ 750.00\n",
            "0 percentual de aumento aplicado: 10.0%\n",
            "0 valor do aumento: R$ 75.00\n",
            "0 novo salário, após o aumento: R$ 825.00\n"
          ]
        }
      ]
    },
    {
      "cell_type": "code",
      "source": [
        "#12. Faça um programa para o cálculo de uma folha de pagamento, sabendo que os descontos são do Imposto de Renda, que depende do salário bruto\n",
        "#(conforme tabela abaixo) e 3% para o Sindicato e que o FGTS corresponde a 11% do Salário Bruto, mas não é descontado (é a empresa que deposita).\n",
        "#O Salário Líquido corresponde ao Salário Bruto menos os descontos. O programa deverá pedir ao usuário o valor da sua hora e a quantidade de horas trabalhadas no mês.\n",
        "#Desconto do IR:\n",
        "#Salário Bruto até 900 (inclusive) - isento\n",
        "#Salário Bruto até 1500 (inclusive) - desconto de 5%\n",
        "#Salário Bruto até 2500 (inclusive) - desconto de 10%\n",
        "#Salário Bruto acima de 2500 - desconto de 20% Imprima na tela as informações\n",
        "\n",
        "#, dispostas conforme o exemplo abaixo. No exemplo o valor da hora é 5 e a quantidade de hora é 220.\n",
        "#        Salário Bruto: (5 * 220)        : R$ 1100,00\n",
        "#        (-) IR (5%)                     : R$   55,00  \n",
        "#        (-) INSS ( 10%)                 : R$  110,00\n",
        "#        FGTS (11%)                      : R$  121,00\n",
        "#        Total de descontos              : R$  165,00\n",
        "#        Salário Liquido                 : R$  935,00\n",
        "\n",
        "valor_hora = float(input(\"Digite o valor da hora trabalhada do colaborador: \"))\n",
        "qtdhora = float(input(\"Qual a quantidade de horas trabalhada no mês: \"))\n",
        "\n",
        "salariobruto = valor_hora * qtdhora\n",
        "\n",
        "if salariobruto<900:\n",
        "    percentual_IR=0\n",
        "    valor_IR=0.0\n",
        "    valor_INSS=salariobruto*0.10\n",
        "    FGTS=salariobruto*0.11\n",
        "    descontos=valor_IR+valor_INSS\n",
        "    salarioliquido=salariobruto-descontos\n",
        "\n",
        "elif salariobruto>=900 and salariobruto<1500:\n",
        "    percentual_IR=0.05\n",
        "    valor_IR=salariobruto*0.05\n",
        "    valor_INSS=salariobruto*0.10\n",
        "    FGTS=salariobruto*0.11\n",
        "    descontos=valor_IR+valor_INSS\n",
        "    salarioliquido=salariobruto-descontos\n",
        "\n",
        "elif salariobruto>=1500 and salariobruto<2500:\n",
        "    percentual_IR=0.10\n",
        "    valor_IR=salariobruto*0.10\n",
        "    valor_INSS=salariobruto*0.10\n",
        "    FGTS=salariobruto*0.11\n",
        "    descontos=valor_IR+valor_INSS\n",
        "    salarioliquido=salariobruto-descontos\n",
        "else:\n",
        "    percentual_IR=0.20\n",
        "    valor_IR=salariobruto*0.20\n",
        "    valor_INSS=salariobruto*0.10\n",
        "    FGTS=salariobruto*0.11\n",
        "    descontos=valor_IR+valor_INSS\n",
        "    salarioliquido=salariobruto-descontos\n",
        "\n",
        "\n",
        "print(f\"Salário Bruto: R$ {salariobruto:.2f}\")\n",
        "print(f\"______(-) IR ({percentual_IR:.1%}):R$ {valor_IR:.2f}\")\n",
        "print(f\"______(-) INSS (10%): R$ {valor_INSS:.2f}\")\n",
        "print(f\"______FGTS (11%): R$ {FGTS:.2f}\")\n",
        "print(f\"______Total de descontos: R$ {descontos:.2f}\")\n",
        "print(f\"Salário Liquido: R$ {salarioliquido:.2f}\")\n",
        "\n"
      ],
      "metadata": {
        "colab": {
          "base_uri": "https://localhost:8080/"
        },
        "id": "E05SycVgFmAX",
        "outputId": "99b286dc-8a29-4e87-f5e2-9de1e97daf01"
      },
      "execution_count": null,
      "outputs": [
        {
          "output_type": "stream",
          "name": "stdout",
          "text": [
            "Digite o valor da hora trabalhada do colaborador: 85\n",
            "Qual a quantidade de horas trabalhada no mês: 220\n",
            "Salário Bruto: R$ 18700.00\n",
            "______(-) IR (20.0%):R$ 3740.00\n",
            "______(-) INSS (10%): R$ 1870.00\n",
            "______FGTS (11%): R$ 2057.00\n",
            "______Total de descontos: R$ 5610.00\n",
            "Salário Liquido: R$ 13090.00\n"
          ]
        }
      ]
    },
    {
      "cell_type": "code",
      "source": [
        "#13.Faça um Programa que leia um número e exiba o dia correspondente da semana. (1-Domingo, 2- Segunda, etc.), se digitar outro valor deve aparecer valor inválido.\n",
        "\n",
        "dia_semana=int(input(\"Digite o dia da semana:\"))\n",
        "\n",
        "if dia_semana==1:\n",
        "    print(\"Domingo\")\n",
        "elif dia_semana==2:\n",
        "    print(\"Segunda-feira\")\n",
        "elif dia_semana==3:\n",
        "    print(\"Terça-feira\")\n",
        "elif dia_semana==4:\n",
        "    print(\"Quarta-feira\")\n",
        "elif dia_semana==5:\n",
        "    print(\"Quinta-feira\")\n",
        "elif dia_semana==6:\n",
        "    print(\"Sexta-feira\")\n",
        "elif dia_semana==7:\n",
        "    print(\"Sábado\")\n",
        "else:\n",
        "    print(\"valor inválido\")"
      ],
      "metadata": {
        "colab": {
          "base_uri": "https://localhost:8080/"
        },
        "id": "UFUF8c5aLWxN",
        "outputId": "7a4152f7-ae1b-4524-e730-d511d0f8ab2d"
      },
      "execution_count": null,
      "outputs": [
        {
          "output_type": "stream",
          "name": "stdout",
          "text": [
            "Digite o dia da semana:52\n",
            "valor inválido\n"
          ]
        }
      ]
    },
    {
      "cell_type": "code",
      "source": [
        "#14. Faça um programa que lê as duas notas parciais obtidas por um aluno numa disciplina ao longo de um semestre, e calcule a sua média.\n",
        "# A atribuição de conceitos obedece à tabela abaixo:\n",
        "#  Média de Aproveitamento  Conceito\n",
        "#  Entre 9.0 e 10.0        A\n",
        "#  Entre 7.5 e 9.0         B\n",
        "#  Entre 6.0 e 7.5         C\n",
        "#  Entre 4.0 e 6.0         D\n",
        "#  Entre 4.0 e zero        E\n",
        "#O algoritmo deve mostrar na tela as notas, a média, o conceito correspondente e a mensagem “APROVADO” se o conceito for A, B ou C ou “REPROVADO” se o conceito for D ou E.\n",
        "\n",
        "nota_semestral1=float(input(\"Digite a 1ª nota do semestre:\"))\n",
        "nota_semestral2=float(input(\"Digite a 2ª nota do semestre:\"))\n",
        "\n",
        "media_nota_semestral1=(nota_semestral1+nota_semestral2)/2\n",
        "\n",
        "if media_nota_semestral1>9 or media_nota_semestral1>=10:\n",
        "    print(f\"As notas do aluno foram {nota_semestral1:.2f} e {nota_semestral2:.2f} \")\n",
        "    print(f\"A média foi: {media_nota_semestral1:.2f}\")\n",
        "    print(\"Conceito = 'A' \")\n",
        "    print(\"APROVADO\")\n",
        "elif media_nota_semestral1>7.5 or media_nota_semestral1>=9:\n",
        "    print(f\"As notas do aluno foram {nota_semestral1:.2f} e {nota_semestral2:.2f} \")\n",
        "    print(f\"A média foi: {media_nota_semestral1:.2f}\")\n",
        "    print(\"Conceito = 'B' \")\n",
        "    print(\"APROVADO\")\n",
        "elif media_nota_semestral1>6 or media_nota_semestral1>=7.5:\n",
        "    print(f\"As notas do aluno foram {nota_semestral1:.2f} e {nota_semestral2:.2f} \")\n",
        "    print(f\"A média foi: {media_nota_semestral1:.2f}\")\n",
        "    print(\"Conceito = 'C' \")\n",
        "    print(\"APROVADO\")\n",
        "elif media_nota_semestral1>4 or media_nota_semestral1>=6:\n",
        "    print(f\"As notas do aluno foram {nota_semestral1:.2f} e {nota_semestral2:.2f} \")\n",
        "    print(f\"A média foi: {media_nota_semestral1:.2f}\")\n",
        "    print(\"Conceito = 'D' \")\n",
        "    print(\"REPROVADO\")\n",
        "else:\n",
        "    print(f\"As notas do aluno foram {nota_semestral1:.2f} e {nota_semestral2:.2f} \")\n",
        "    print(f\"A média foi: {media_nota_semestral1:.2f}\")\n",
        "    print(\"Conceito = 'E' \")\n",
        "    print(\"REPROVADO\")\n"
      ],
      "metadata": {
        "colab": {
          "base_uri": "https://localhost:8080/"
        },
        "id": "NtiAkOaUMQYT",
        "outputId": "685c8676-7b13-488e-9ad3-9dc78ac28d66"
      },
      "execution_count": null,
      "outputs": [
        {
          "output_type": "stream",
          "name": "stdout",
          "text": [
            "Digite a 1ª nota do semestre:6\n",
            "Digite a 2ª nota do semestre:6\n",
            "As notas do aluno foram 6.00 e 6.00 \n",
            "A média foi: 6.00\n",
            "Conceito = 'D' \n",
            "REPROVADO\n"
          ]
        }
      ]
    },
    {
      "cell_type": "code",
      "source": [
        "#15.Faça um Programa que peça os 3 lados de um triângulo. O programa deverá informar se os valores podem ser um triângulo.\n",
        "# Indique, caso os lados formem um triângulo, se o mesmo é: equilátero, isósceles ou escaleno.\n",
        "#Dicas:\n",
        "#Três lados formam um triângulo quando a soma de quaisquer dois lados for maior que o terceiro;\n",
        "#Triângulo Equilátero: três lados iguais;\n",
        "#Triângulo Isósceles: quaisquer dois lados iguais;\n",
        "#Triângulo Escaleno: três lados diferentes;\n",
        "\n",
        "lado1=int(input(\"Digite o 1ª lado para forma um triângulo\"))\n",
        "lado2=int(input(\"Digite o 2ª lado para forma um triângulo\"))\n",
        "lado3=int(input(\"Digite o 3ª lado para forma um triângulo\"))\n",
        "\n",
        "if ((lado1+lado2)>lado3) and ((lado1+lado3)>lado2) and ((lado3+lado2)>lado1):\n",
        "    print(\"É um triangulo\")\n",
        "    if (lado1==lado2) and (lado2==lado3) and (lado1==lado3):\n",
        "        print(\"É um Triângulo Equilátero\")    \n",
        "    elif  (lado1!=lado2) and (lado2!=lado3) and (lado1!=lado3):\n",
        "        print(\"É um Triângulo Escaleno\") \n",
        "    else:\n",
        "        print(\"É um Triângulo Isósceles\")        \n",
        "else:\n",
        "    print(\"Não é um triangulo\")"
      ],
      "metadata": {
        "colab": {
          "base_uri": "https://localhost:8080/"
        },
        "id": "gqd9eKICPu4v",
        "outputId": "96afbc77-4afc-43e6-d7b3-b88b0a3ba553"
      },
      "execution_count": null,
      "outputs": [
        {
          "output_type": "stream",
          "name": "stdout",
          "text": [
            "Digite o 1ª lado para forma um triângulo36\n",
            "Digite o 2ª lado para forma um triângulo3\n",
            "Digite o 3ª lado para forma um triângulo2\n",
            "Não é um triangulo\n"
          ]
        }
      ]
    },
    {
      "cell_type": "code",
      "source": [
        "#16.Faça um programa que calcule as raízes de uma equação do segundo grau, na forma ax2 + bx + c. \n",
        "#O programa deverá pedir os valores de a, b e c e fazer as consistências, informando ao usuário nas seguintes situações:\n",
        "#Se o usuário informar o valor de A igual a zero, a equação não é do segundo grau e o programa não deve fazer pedir os demais valores, sendo encerrado;\n",
        "#Se o delta calculado for negativo, a equação não possui raizes reais. Informe ao usuário e encerre o programa;\n",
        "#Se o delta calculado for igual a zero a equação possui apenas uma raiz real; informe-a ao usuário;\n",
        "#Se o delta for positivo, a equação possui duas raiz reais; informe-as ao usuário;\n",
        "\n",
        "import math\n",
        "\n",
        "a=int(input(\"Digite o valor de 'a' para equação do segundo grau: \"))\n",
        "\n",
        "if a==0:\n",
        "    print('A equação não é do segundo grau e não é necessário os demais valores.')\n",
        "else:\n",
        "    b=int(input(\"Digite o valor de 'b' para equação do segundo grau: \"))\n",
        "    c=int(input(\"Digite o valor de 'c' para equação do segundo grau: \"))\n",
        "    equacao=(a^2)+b+c\n",
        "    delta=(b^2)-4*a*c\n",
        "    if delta>0:\n",
        "        print(\"A equação possui duas raiz reais\")\n",
        "        equacao1=(-b+math.sqrt(delta))/2*a\n",
        "        x1=math.ceil(equacao1)\n",
        "        equacao2=(-b-math.sqrt(delta))/2*a\n",
        "        x2=math.ceil(equacao2)\n",
        "        print(f\"As soluções da equação são duas valores distintos x1 = {x1:.1f} e x2 = {x2:.1f} \")\n",
        "    elif delta==0:\n",
        "        print(\"As soluções da equação são repetidas, pois a equação possui apenas uma raiz real\")\n",
        "        equacao1=(-b+math.sqrt(delta))/2*a\n",
        "        x1=math.ceil(equacao1)\n",
        "        equacao2=(-b-math.sqrt(delta))/2*a\n",
        "        x2=math.ceil(equacao2)\n",
        "        print(f\"As soluções da equação são repetidas x1 = {x1:.1f} e x2 = {x2:.1f} \")\n",
        "\n",
        "    else:\n",
        "        print(\"A equação não possui raizes reais\")\n",
        "        print(\"Finalizado o programa\")\n",
        "\n"
      ],
      "metadata": {
        "colab": {
          "base_uri": "https://localhost:8080/"
        },
        "id": "OQkxvfSrTa6d",
        "outputId": "6f477328-3398-4f59-faf1-a38b6c208578"
      },
      "execution_count": null,
      "outputs": [
        {
          "output_type": "stream",
          "name": "stdout",
          "text": [
            "Digite o valor de 'a' para equação do segundo grau: 1\n",
            "Digite o valor de 'b' para equação do segundo grau: -1\n",
            "Digite o valor de 'c' para equação do segundo grau: -12\n",
            "A equação possui duas raiz reais\n",
            "As soluções da equação são duas valores distintos x1 = 4.0 e x2 = -2.0 \n"
          ]
        }
      ]
    },
    {
      "cell_type": "code",
      "source": [
        "#17.Faça um Programa que peça um número correspondente a um determinado ano e em seguida informe se este ano é ou não bissexto.\n",
        "\n",
        "ano = int(input('Digite o ano: '))\n",
        "if (ano%4==0 and ano%100!=0) or (ano%400==0):\n",
        "    print('É Bissexto')\n",
        "else:\n",
        "    print('Não é bissexto')"
      ],
      "metadata": {
        "id": "uCQFI_Dc8HOx",
        "colab": {
          "base_uri": "https://localhost:8080/"
        },
        "outputId": "3ca81e8d-74c8-4d25-f088-8073997710a5"
      },
      "execution_count": null,
      "outputs": [
        {
          "output_type": "stream",
          "name": "stdout",
          "text": [
            "Digite o ano: 2013\n",
            "Não é bissexto\n"
          ]
        }
      ]
    },
    {
      "cell_type": "code",
      "source": [
        "#18.Faça um Programa que peça uma data no formato dd/mm/aaaa e determine se a mesma é uma data válida.\n",
        "#REFAZER\n",
        "data = input('Digite uma data no formato dd/mm/aaaa: ')\n",
        "dia = int(data[0:2])\n",
        "mes = int(data[3:5])\n",
        "ano = int(data[6:10])\n",
        "\n",
        "if len(data) == 10:\n",
        "    if 0 < ano < 10000:\n",
        "        if 0 < mes <= 12:\n",
        "            if mes == 2 and (ano % 4) == 0:\n",
        "                if 0 < dia <= 29:\n",
        "                    print('Esta é uma data válida.')\n",
        "                else:\n",
        "                    print('Esta não é uma data válida.')\n",
        "            elif mes == 2 and (ano % 4) != 0:\n",
        "                if 0 < dia <= 28:\n",
        "                    print('Esta é uma data válida.')\n",
        "                else:\n",
        "                    print('Esta não é uma data válida.')\n",
        "\n",
        "            elif mes == 4 or mes == 6 or mes == 9 or mes == 11:\n",
        "                if 0 < dia <= 30:\n",
        "                    print('Esta é uma data válida.')\n",
        "                else:\n",
        "                    print('Esta não é uma data válida.')\n",
        "            elif mes == 1 or mes == 3 or mes == 5 or mes == 7 or mes == 8 or mes == 10 or mes == 12:\n",
        "                if 0 < dia <= 31:\n",
        "                    print('Esta é uma data válida.')\n",
        "                else:\n",
        "                    print('Esta não é uma data válida.')\n",
        "        else:\n",
        "            print('Esta não é uma data válida.')\n",
        "    else:\n",
        "        print('Esta não é uma data válida.')\n",
        "else:\n",
        "    print('Esta não é uma data válida.')\n",
        "\n",
        "\n",
        "\n",
        "\n",
        "\n",
        "\n",
        "\n",
        "\n"
      ],
      "metadata": {
        "colab": {
          "base_uri": "https://localhost:8080/"
        },
        "id": "luFmQKV4bg6f",
        "outputId": "ba0304dc-c2c3-4c13-bad1-f97fbe93a1d2"
      },
      "execution_count": null,
      "outputs": [
        {
          "output_type": "stream",
          "name": "stdout",
          "text": [
            "Digite uma data no formato dd/mm/aaaa: 51/14/2014\n",
            "Esta não é uma data válida.\n"
          ]
        }
      ]
    },
    {
      "cell_type": "code",
      "source": [
        "#19. Faça um Programa que leia um número inteiro menor que 1000 e imprima a quantidade de centenas, dezenas e unidades do mesmo.\n",
        "#Observando os termos no plural a colocação do \"e\", da vírgula entre outros. Exemplo:\n",
        "#326 = 3 centenas, 2 dezenas e 6 unidades\n",
        "#12 = 1 dezena e 2 unidades Testar com: 326, 300, 100, 320, 310,305, 301, 101, 311, 111, 25, 20, 10, 21, 11, 1, 7 e 16\n",
        "\n",
        "numero=int(input(\"Digite um número menor que 1000 ---> \"))\n",
        "\n",
        "if numero<=1000:\n",
        "    numeroStr=str(numero)\n",
        "    qtdNumero=len(numeroStr)\n",
        "    if qtdNumero==3:\n",
        "        centena=numeroStr[0:1]\n",
        "        dezena=numeroStr[1:2]\n",
        "        unidade=numeroStr[2:3]\n",
        "        print(f'{numeroStr} = {centena} centena + {dezena} dezena + {unidade} unidade')\n",
        "    elif qtdNumero==2:\n",
        "        dezena=numeroStr[0:1]\n",
        "        unidade=numeroStr[1:2]\n",
        "        print(f'{numeroStr} = {dezena} dezena + {unidade} unidade  ')\n",
        "    elif qtdNumero==1:\n",
        "        unidade=numeroStr[0:1]\n",
        "        print(f'{numeroStr} = {unidade} unidade ')\n",
        "else:\n",
        "    print(\"O número digitado é maior que 1000\")\n",
        "\n",
        "    "
      ],
      "metadata": {
        "id": "kmlQAXnRZvdU",
        "colab": {
          "base_uri": "https://localhost:8080/"
        },
        "outputId": "e4561fe2-1f7e-42a4-978f-a39ea2191daf"
      },
      "execution_count": null,
      "outputs": [
        {
          "output_type": "stream",
          "name": "stdout",
          "text": [
            "Digite um número menor que 1000 ---> 1600\n",
            "O número digitado é maior que 1000\n"
          ]
        }
      ]
    },
    {
      "cell_type": "code",
      "source": [
        "#20.Faça um Programa para leitura de três notas parciais de um aluno. O programa deve calcular a média alcançada por aluno e presentar:\n",
        "#A mensagem \"Aprovado\", se a média for maior ou igual a 7, com a respectiva média alcançada;\n",
        "#A mensagem \"Reprovado\", se a média for menor do que 7, com a respectiva média alcançada;\n",
        "#A mensagem \"Aprovado com Distinção\", se a média for igual a 10.\n",
        "\n",
        "nota0 = float(input('Digite o 1º nota: '))\n",
        "nota9 = float(input('Digite o 2º nota: '))\n",
        "\n",
        "media = (nota0+nota9)/2\n",
        "\n",
        "if media==10:\n",
        "    print(\"Aprovado com Distinção\")\n",
        "    print(f\"A média é: {media}\")\n",
        "elif media>=7:\n",
        "    print(\"Aprovado\")\n",
        "    print(f\"A média é: {media}\")\n",
        "else:\n",
        "    print(\"Reporvado\")\n",
        "    print(f\"A média é: {media}\")\n"
      ],
      "metadata": {
        "id": "F-KLX9M-fUTK",
        "colab": {
          "base_uri": "https://localhost:8080/"
        },
        "outputId": "fc23696a-03f2-440a-ca30-29874feb5462"
      },
      "execution_count": null,
      "outputs": [
        {
          "output_type": "stream",
          "name": "stdout",
          "text": [
            "Digite o 1º nota: 5\n",
            "Digite o 2º nota: 10\n",
            "Aprovado\n",
            "A média é: 7.5\n"
          ]
        }
      ]
    },
    {
      "cell_type": "code",
      "source": [
        "#21.Faça um Programa para um caixa eletrônico. O programa deverá perguntar ao usuário a valor do saque e depois informar quantas notas de cada valor serão fornecidas. \n",
        "#As notas disponíveis serão as de 1, 5, 10, 50 e 100 reais. O valor mínimo é de 10 reais e o máximo de 600 reais. O programa não deve se preocupar com a quantidade de notas existentes na máquina.\n",
        "#Exemplo 1: Para sacar a quantia de 256 reais, o programa fornece duas notas de 100, uma nota de 50, uma nota de 5 e uma nota de 1;\n",
        "#Exemplo 2: Para sacar a quantia de 399 reais, o programa fornece três notas de 100, uma nota de 50, quatro notas de 10, uma nota de 5 e quatro notas de 1.\n",
        "\n",
        "saque=float(input(\"Qual o valor do saque: \"))\n",
        "\n",
        "if ((saque>=10) and (saque<=600)):\n",
        "    n100= saque//100\n",
        "    resto= saque%100\n",
        "    n50= resto//50\n",
        "    resto %= 50\n",
        "    n10= resto//10\n",
        "    resto %=10\n",
        "    n5= resto//5\n",
        "    resto %=5\n",
        "    n1= resto//1\n",
        "    valorsacado=n1*1+n5*5+n10*10+n50*50+n100*100\n",
        "    print(f\"O valor sacado: R${valorsacado}\")\n",
        "    print(f\"Notas de R$ 100:{n100:.0f}\")\n",
        "    print(f\"Notas de R$ 50:{n50:.0f}\")\n",
        "    print(f\"Notas de R$ 10:{n10:.0f}\")\n",
        "    print(f\"Notas de R$ 5:{n5:.0f}\")\n",
        "    print(f\"Notas de R$ 1:{n1:.0f}\")\n",
        "else:\n",
        "    print(\"O valor digitado não pode ser sacado\")\n",
        "\n",
        "      "
      ],
      "metadata": {
        "colab": {
          "base_uri": "https://localhost:8080/"
        },
        "id": "guEH1vM2gCqj",
        "outputId": "14b52b50-6cc2-448c-d2fb-a549b3097e9f"
      },
      "execution_count": null,
      "outputs": [
        {
          "output_type": "stream",
          "name": "stdout",
          "text": [
            "Qual o valor do saque: 14\n",
            "O valor sacado: R$14.0\n",
            "Notas de R$ 100:0\n",
            "Notas de R$ 50:0\n",
            "Notas de R$ 10:1\n",
            "Notas de R$ 5:0\n",
            "Notas de R$ 1:4\n"
          ]
        }
      ]
    },
    {
      "cell_type": "code",
      "source": [
        "#22.Faça um Programa que peça um número inteiro e determine se ele é par ou impar. Dica: utilize o operador módulo (resto da divisão).\n",
        "\n",
        "numeroX=int(input(\"Digite um número: \"))\n",
        "\n",
        "if numeroX%2==0:\n",
        "    print(\"O número é par\")\n",
        "else:\n",
        "    print(\"O número é impar\")"
      ],
      "metadata": {
        "colab": {
          "base_uri": "https://localhost:8080/"
        },
        "id": "0CLsDH_mnd9O",
        "outputId": "9f5c57f0-e886-4b41-af95-bcabd7335fe3"
      },
      "execution_count": null,
      "outputs": [
        {
          "output_type": "stream",
          "name": "stdout",
          "text": [
            "Digite um número: 22\n",
            "O número é par\n"
          ]
        }
      ]
    },
    {
      "cell_type": "code",
      "source": [
        "#23.Faça um Programa que peça um número e informe se o número é inteiro ou decimal. Dica: utilize uma função de arredondamento.\n",
        "\n",
        "import math \n",
        "\n",
        "valorX=float(input(\"Digite um número: \"))\n",
        "aux=valorX\n",
        "valorX=math.ceil(valorX)\n",
        "\n",
        "if \taux==valorX:\n",
        "    print(\"O numero digitado é inteiro!\")\n",
        "else:\n",
        "    print(\"O numero digitado é decimal.\");\n",
        "    print(f\"Seu arredondamento é {valorX:.2f}\")"
      ],
      "metadata": {
        "colab": {
          "base_uri": "https://localhost:8080/"
        },
        "id": "_aqbN7jLoDuz",
        "outputId": "3eb61ec0-7c48-4e69-ff38-d84f864ab119"
      },
      "execution_count": null,
      "outputs": [
        {
          "output_type": "stream",
          "name": "stdout",
          "text": [
            "Digite um número: 5\n",
            "O numero digitado é inteiro!\n"
          ]
        }
      ]
    },
    {
      "cell_type": "code",
      "source": [
        "#24. Faça um Programa que leia 2 números e em seguida pergunte ao usuário qual operação ele deseja realizar.\n",
        "# O resultado da operação deve ser acompanhado de uma frase que diga se o número é:\n",
        "#par ou ímpar;\n",
        "#positivo ou negativo;\n",
        "#inteiro ou decimal\n",
        "import math\n",
        "\n",
        "numeroCondicional=float(input(\"Digite um número: \"))\n",
        "\n",
        "aux1=numeroCondicional\n",
        "numeroCondicional=math.ceil(numeroCondicional)\n",
        "\n",
        "if numeroCondicional%2==0 and aux1==numeroCondicional and numeroCondicional>0:\n",
        "    print(\"O número é par, inteiro e positivo\")\n",
        "elif numeroCondicional%2==0 and aux1==numeroCondicional and numeroCondicional<0:\n",
        "    print(\"O número é par,inteiro e negativo\")\n",
        "elif numeroCondicional%2==0 and aux1!=numeroCondicional and numeroCondicional>0:\n",
        "    print(\"O número é par, decimal e positivo\")\n",
        "elif numeroCondicional%2==0 and aux1!=numeroCondicional and numeroCondicional<0:\n",
        "    print(\"O número é par, decimal e negativo\")\n",
        "elif numeroCondicional%2==1 and aux1==numeroCondicional and numeroCondicional>0:\n",
        "    print(\"O número é impar, inteiro e positivo\")\n",
        "elif numeroCondicional%2==1 and aux1==numeroCondicional and numeroCondicional<0:\n",
        "    print(\"O número é impar,inteiro e negativo\")\n",
        "elif numeroCondicional%2==1 and aux1!=numeroCondicional and numeroCondicional>0:\n",
        "    print(\"O número é impar, decimal e positivo\")\n",
        "else:\n",
        "    print(\"O número é impar, decimal e negativo\")"
      ],
      "metadata": {
        "colab": {
          "base_uri": "https://localhost:8080/"
        },
        "id": "HHpwGCntm6c_",
        "outputId": "01d2e0cf-9734-464f-f695-92818e4e073a"
      },
      "execution_count": null,
      "outputs": [
        {
          "output_type": "stream",
          "name": "stdout",
          "text": [
            "Digite um número: 1.5\n",
            "O número é par, decimal e positivo\n"
          ]
        }
      ]
    },
    {
      "cell_type": "code",
      "source": [
        "#25.Faça um programa que faça 5 perguntas para uma pessoa sobre um crime. As perguntas são:\n",
        "#\"Telefonou para a vítima?\"\n",
        "#\"Esteve no local do crime?\"\n",
        "#\"Mora perto da vítima?\"\n",
        "#\"Devia para a vítima?\"\n",
        "#\"Já trabalhou com a vítima?\" \n",
        "#O programa deve no final emitir uma classificação sobre a participação da pessoa no crime. \n",
        "#Se a pessoa responder positivamente a 2 questões ela deve ser classificada como \n",
        "#\"Suspeita\", entre 3 e 4 como \"Cúmplice\" e 5 como \"Assassino\". Caso contrário, ele será classificado como \"Inocente\".\n",
        "\n",
        "cont=0\n",
        "print(\"*** Iremos fazer 5 perguntas sobre um crime***\")\n",
        "\n",
        "respostaX=int(input('Telefonou para a vítima? (1)Sim ou (0)Não:'))\n",
        "if respostaX==1:\n",
        "    cont+=1\n",
        "respostaX=int(input('Esteve no local do crime? (1)Sim ou (0)Não:'))\n",
        "if respostaX==1:\n",
        "    cont+=1\n",
        "respostaX=int(input('Mora perto da vítima? (1)Sim ou (0)Não:'))\n",
        "if respostaX==1:\n",
        "    cont+=1\n",
        "respostaX=int(input('Devia para a vítima? (1)Sim ou (0)Não:'))\n",
        "if respostaX==1:\n",
        "    cont+=1\n",
        "respostaX=int(input('Já trabalhou com a vítima? (1)Sim ou (0)Não:'))\n",
        "if respostaX==1: \n",
        "    cont+=1\n",
        "\n",
        "print(\"\\nObrigado, isto é tudo...\\n\")\n",
        "if cont < 2:\n",
        "    print(\"O interrogado é INOCENTE...\")\n",
        "elif cont == 2:\n",
        "    print(\"O interrogado é SUSPEITO.\")\n",
        "elif (cont > 2) and (cont < 5):\n",
        "    print(\"O interrogado é CÚMPLICE!\")\n",
        "else:\n",
        "    print(\"O interrogado é o ASSASINO!!!\")\n",
        "\n",
        "\n",
        "\n",
        "\n",
        "\n",
        "\n"
      ],
      "metadata": {
        "colab": {
          "base_uri": "https://localhost:8080/"
        },
        "id": "gTZ4VHdXpd_O",
        "outputId": "eac912a3-89da-4cc7-c441-b6baa1421cd6"
      },
      "execution_count": null,
      "outputs": [
        {
          "output_type": "stream",
          "name": "stdout",
          "text": [
            "*** Iremos fazer 5 perguntas sobre um crime***\n",
            "Telefonou para a vítima? (1)Sim ou (0)Não:1\n",
            "Esteve no local do crime? (1)Sim ou (0)Não:1\n",
            "Mora perto da vítima? (1)Sim ou (0)Não:1\n",
            "Devia para a vítima? (1)Sim ou (0)Não:1\n",
            "Já trabalhou com a vítima? (1)Sim ou (0)Não:1\n",
            "\n",
            "Obrigado, isto é tudo...\n",
            "\n",
            "O interrogado é o ASSASINO!!!\n"
          ]
        }
      ]
    },
    {
      "cell_type": "code",
      "source": [
        "#Questão feita com lista.\n",
        "\n",
        "lista_perguntas = [\"Telefonou para a vítima? (1)Sim ou (0)Não: \",\n",
        "                    \"Esteve no local do crime? (1)Sim ou (0)Não: \",\n",
        "                    \"Mora perto da vítima? (1)Sim ou (0)Não: \",\n",
        "                    \"Devia para a vítima? (1)Sim ou (0)Não: \",\n",
        "                    \"Já trabalhou com a vítima? (1)Sim ou (0)Não: \"]\n",
        "respostas = []\n",
        "soma_respostas = 0\n",
        "\n",
        "for i in range(len(lista_perguntas)):\n",
        "    print(lista_perguntas[i])\n",
        "    respostas.append(input()) # adiciona as respostas na lista resposta\n",
        "    soma_respostas += int(respostas[i]) # soma o número de respostas\n",
        "\n",
        "status = [\"Inocente\",\"Suspeita\",\"Cúmplice\",\"Assassino\"]\n",
        "if soma_respostas == 5:\n",
        "    print(status[3])\n",
        "elif (soma_respostas > 2) and (soma_respostas < 5):\n",
        "    print(status[2])\n",
        "elif soma_respostas == 2:\n",
        "    print(status[1])\n",
        "else:\n",
        "    print(status[0])"
      ],
      "metadata": {
        "id": "MNNh6P4yqe8O"
      },
      "execution_count": null,
      "outputs": []
    },
    {
      "cell_type": "code",
      "source": [
        "#26.Um posto está vendendo combustíveis com a seguinte tabela de descontos:\n",
        "#Álcool:\n",
        "#até 20 litros, desconto de 3% por litro\n",
        "#acima de 20 litros, desconto de 5% por litro\n",
        "#Gasolina:\n",
        "#até 20 litros, desconto de 4% por litro\n",
        "#acima de 20 litros, desconto de 6% por litro. Escreva um algoritmo que leia o número de litros vendidos,\n",
        "#o tipo de combustível (codificado da seguinte forma: A-álcool, G-gasolina), calcule e imprima o valor a ser pago pelo \n",
        "#cliente sabendo-se que o preço do litro da gasolina é R$ 2,50 o preço do litro do álcool é R$ 1,90.\n",
        "\n",
        "numero_litro=float(input(\"Digite a qtd. de litros vendidos: \"))\n",
        "tipo=str(input(\"Tipo de combustível A-álcool, G-gasolina: \"))\n",
        "\n",
        "if tipo=='A' and numero_litro<=20:\n",
        "    valorPago=1.90*numero_litro\n",
        "    desconto=valorPago*0.03\n",
        "    valorTotal=valorPago-desconto\n",
        "    print(f\"O valor a ser pago pelo cliente é de: R${valorTotal:.2f}\")\n",
        "elif tipo=='A' and numero_litro>20:\n",
        "    valorPago=1.90*numero_litro\n",
        "    desconto=valorPago*0.05\n",
        "    valorTotal=valorPago-desconto\n",
        "    print(f\"O valor a ser pago pelo cliente é de: R${valorTotal:.2f}\")\n",
        "elif tipo=='G' and numero_litro<=20:\n",
        "    valorPago=2.50*numero_litro\n",
        "    desconto=valorPago*0.04\n",
        "    valorTotal=valorPago-desconto\n",
        "    print(f\"O valor a ser pago pelo cliente é de: R${valorTotal:.2f}\")\n",
        "elif tipo=='G' and numero_litro>20:\n",
        "    valorPago=2.50*numero_litro\n",
        "    desconto=valorPago*0.06\n",
        "    valorTotal=valorPago-desconto\n",
        "    print(f\"O valor a ser pago pelo cliente é de: R${valorTotal:.2f}\")\n",
        "else:\n",
        "    print(\"Combustível inválido!!!\")\n",
        "\n"
      ],
      "metadata": {
        "id": "hty8CGlBwiyn",
        "colab": {
          "base_uri": "https://localhost:8080/"
        },
        "outputId": "32af2e1e-0fb9-4317-80da-39fb025df322"
      },
      "execution_count": 2,
      "outputs": [
        {
          "output_type": "stream",
          "name": "stdout",
          "text": [
            "Digite a qtd. de litros vendidos: 40\n",
            "Tipo de combustível A-álcool, G-gasolina: G\n",
            "O valor a ser pago pelo cliente é de: R$94.00\n"
          ]
        }
      ]
    },
    {
      "cell_type": "code",
      "source": [
        "#27.Uma fruteira está vendendo frutas com a seguinte tabela de preços:\n",
        "#                      Até 5 Kg           Acima de 5 Kg\n",
        "#Morango         R$ 2,50 por Kg          R$ 2,20 por Kg\n",
        "#Maçã            R$ 1,80 por Kg          R$ 1,50 por Kg\n",
        "#Se o cliente comprar mais de 8 Kg em frutas ou o valor total da compra ultrapassar R$ 25,00, receberá ainda um desconto de 10% sobre este total.\n",
        "#Escreva um algoritmo para ler a quantidade (em Kg) de morangos e a quantidade (em Kg) de maças adquiridas e escreva o valor a ser pago pelo cliente.\n",
        "\n",
        "qtd_morango=float(input(\"Digite a quantidade (em Kg) de morangos: \"))\n",
        "qtd_maca=float(input(\"Digite a quantidade (em Kg) de maças: \"))\n",
        "\n",
        "preco_morango=2.5\n",
        "preco_maca=1.8\n",
        "\n",
        "preco_morango1=2.2\n",
        "preco_maca1=1.5\n",
        "\n",
        "\n",
        "if qtd_morango>5:\n",
        "    total_morango=preco_morango\n",
        "else:\n",
        "    total_morango=preco_morango1\n",
        "\n",
        "if qtd_maca>5:\n",
        "    total_maca=preco_maca\n",
        "else:\n",
        "    total_maca=preco_maca1\n",
        "\n",
        "precoTotal=total_morango+total_maca\n",
        "\n",
        "if precoTotal>25 or (qtd_morango+qtd_maca)>8:\n",
        "    print(f'Preço final: R$ {(precoTotal-(precoTotal*0.1))}')\n",
        "else:\n",
        "    print(f'Preço final: R$ {precoTotal}')\n",
        "\n"
      ],
      "metadata": {
        "id": "QxR009X_w858",
        "colab": {
          "base_uri": "https://localhost:8080/"
        },
        "outputId": "4d165436-4abf-4af2-9173-7cd5c03d5346"
      },
      "execution_count": 7,
      "outputs": [
        {
          "output_type": "stream",
          "name": "stdout",
          "text": [
            "Digite a quantidade (em Kg) de morangos: 10\n",
            "Digite a quantidade (em Kg) de maças: 10\n",
            "Preço final: R$ 3.8699999999999997\n"
          ]
        }
      ]
    },
    {
      "cell_type": "code",
      "source": [
        "#28. O Hipermercado Tabajara está com uma promoção de carnes que é imperdível. Confira:\n",
        "#                      Até 5 Kg           Acima de 5 Kg\n",
        "#File Duplo      R$ 4,90 por Kg          R$ 5,80 por Kg\n",
        "#Alcatra         R$ 5,90 por Kg          R$ 6,80 por Kg\n",
        "#Picanha         R$ 6,90 por Kg          R$ 7,80 por Kg\n",
        "#Para atender a todos os clientes, cada cliente poderá levar apenas um dos tipos de carne da promoção, porém não há limites \n",
        "#para a quantidade de carne por cliente. Se compra for feita no cartão Tabajara o cliente receberá ainda um desconto de 5% sobre o total da compra.\n",
        "# Escreva um programa que peça o tipo e a quantidade de carne comprada pelo usuário e gere um cupom fiscal,\n",
        "#contendo as informações da compra: tipo e quantidade de carne, preço total, tipo de pagamento, valor do desconto e valor a pagar.\n",
        "\n",
        "print(\"1- File Duplo\\n2- Alcatra\\n3- Picanha\\n\\n\")\n",
        "tipo = int(input(\"Digite o tipo: \"))\n",
        "quantidade = int(input(\"Digite a quantidade comprada: \"))\n",
        "resposta = int(input(\"A compra será realizada com cartao Tabajara? 1p/ SIM - 2p/ NAO: \"))\n",
        "\n",
        "if tipo == 1:\n",
        "    nome = \"File Duplo\"\n",
        "    if quantidade <= 5:\n",
        "        preco = quantidade * 4.90\n",
        "    else:\n",
        "        preco = quantidade * 5.80\n",
        "        \n",
        "if tipo == 2:\n",
        "    nome = \"Alcatra\"\n",
        "    if quantidade <= 5:\n",
        "        preco = quantidade * 5.90\n",
        "    else:\n",
        "        preco = quantidade * 6.80\n",
        "\n",
        "if tipo == 3:\n",
        "    nome = \"Picanha\"\n",
        "    if quantidade <= 5:\n",
        "        preco = quantidade * 6.90\n",
        "    else:\n",
        "        preco = quantidade * 7.80\n",
        "\n",
        "if resposta == 1:\n",
        "    r = \"SIM\"\n",
        "\n",
        "    desconto = ((preco * 5) /100)\n",
        "    total = preco - desconto\n",
        "else:\n",
        "    r = \"NAO\"\n",
        "    total = preco\n",
        "    \n",
        "print(\"\\n***************************CUPOM FISCAL**************************************\")\n",
        "print(f\"* Carne..........................................................  {nome}\")\n",
        "print(f'* Quantidade..................................................... {quantidade}')\n",
        "print(f'* Preço......................................................... {preco}')\n",
        "print(f'* Cartao Tabajara................................................ {r}')\n",
        "print(f'* Total com desconto............................................ R$ {total}')\n",
        "print(f\"******************************************************************************\")\n"
      ],
      "metadata": {
        "id": "ej5tBZtsxGfw",
        "colab": {
          "base_uri": "https://localhost:8080/"
        },
        "outputId": "2f24a9de-7dcf-4583-90dd-8772d8ddc13e"
      },
      "execution_count": null,
      "outputs": [
        {
          "output_type": "stream",
          "name": "stdout",
          "text": [
            "1- File Duplo\n",
            "2- Alcatra\n",
            "3- Picanha\n",
            "\n",
            "\n"
          ]
        }
      ]
    }
  ]
}